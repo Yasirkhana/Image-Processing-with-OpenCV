{
 "cells": [
  {
   "cell_type": "markdown",
   "id": "8ed5adb1",
   "metadata": {},
   "source": [
    "# <center> IMAGE AND VIDEO PROCESSING WITH PYTHON <center>"
   ]
  },
  {
   "cell_type": "markdown",
   "id": "67bdd9ae",
   "metadata": {},
   "source": [
    "### OpenCV: Stand for OPEN SOURCE COMPUTER VISION. Its can also be used in other programming languages."
   ]
  },
  {
   "cell_type": "markdown",
   "id": "e6c03680",
   "metadata": {},
   "source": [
    "##### Importing libraries"
   ]
  },
  {
   "cell_type": "code",
   "execution_count": 1,
   "id": "867f4bc2",
   "metadata": {},
   "outputs": [],
   "source": [
    "import cv2"
   ]
  },
  {
   "cell_type": "markdown",
   "id": "5b795ff7",
   "metadata": {},
   "source": [
    "# Reading Image file :- Black N White Image"
   ]
  },
  {
   "cell_type": "code",
   "execution_count": 2,
   "id": "b3b5f32b",
   "metadata": {},
   "outputs": [],
   "source": [
    "img1 = cv2.imread('galaxy.jpg',0) # 1 : RGB ; 0 : B&W ; -1: transparency capability"
   ]
  },
  {
   "cell_type": "code",
   "execution_count": 3,
   "id": "fc01ce1e",
   "metadata": {},
   "outputs": [
    {
     "name": "stdout",
     "output_type": "stream",
     "text": [
      "<class 'numpy.ndarray'>\n"
     ]
    }
   ],
   "source": [
    "print(type(img1))  # So Image is basically array of pixels"
   ]
  },
  {
   "cell_type": "markdown",
   "id": "fa92ceb1",
   "metadata": {},
   "source": [
    "###### Acctual Array/Image"
   ]
  },
  {
   "cell_type": "code",
   "execution_count": 4,
   "id": "95c581a1",
   "metadata": {},
   "outputs": [
    {
     "name": "stdout",
     "output_type": "stream",
     "text": [
      "[[50 45 51 ... 40 44 45]\n",
      " [68 62 62 ... 37 42 44]\n",
      " [59 56 56 ... 38 43 46]\n",
      " ...\n",
      " [ 0  0  0 ...  1  1  1]\n",
      " [ 0  0  0 ...  1  1  1]\n",
      " [ 0  0  0 ...  1  1  1]]\n"
     ]
    }
   ],
   "source": [
    "print(img1)  "
   ]
  },
  {
   "cell_type": "code",
   "execution_count": 5,
   "id": "f7b0b1dd",
   "metadata": {
    "scrolled": true
   },
   "outputs": [
    {
     "data": {
      "text/plain": [
       "(2250, 4000)"
      ]
     },
     "execution_count": 5,
     "metadata": {},
     "output_type": "execute_result"
    }
   ],
   "source": [
    "img1.shape"
   ]
  },
  {
   "cell_type": "markdown",
   "id": "c217ab53",
   "metadata": {},
   "source": [
    "##### Shape of the array is 2250 rows and 4000 cols"
   ]
  },
  {
   "cell_type": "code",
   "execution_count": 6,
   "id": "e8ace27f",
   "metadata": {},
   "outputs": [
    {
     "name": "stdout",
     "output_type": "stream",
     "text": [
      "2\n"
     ]
    }
   ],
   "source": [
    "print(img1.ndim) # its a 2D array"
   ]
  },
  {
   "cell_type": "markdown",
   "id": "ed5a9c7e",
   "metadata": {},
   "source": [
    "# Now, reading Image in RGB "
   ]
  },
  {
   "cell_type": "code",
   "execution_count": 7,
   "id": "696216ef",
   "metadata": {},
   "outputs": [],
   "source": [
    "img2 = cv2.imread(\"galaxy.jpg\",1) "
   ]
  },
  {
   "cell_type": "code",
   "execution_count": 8,
   "id": "b54bbbd9",
   "metadata": {},
   "outputs": [
    {
     "name": "stdout",
     "output_type": "stream",
     "text": [
      "[[[77 56 29]\n",
      "  [72 51 24]\n",
      "  [78 57 30]\n",
      "  ...\n",
      "  [70 46 16]\n",
      "  [74 50 20]\n",
      "  [75 51 21]]\n",
      "\n",
      " [[95 74 47]\n",
      "  [89 68 41]\n",
      "  [89 68 41]\n",
      "  ...\n",
      "  [67 43 13]\n",
      "  [72 48 18]\n",
      "  [74 50 20]]\n",
      "\n",
      " [[86 65 38]\n",
      "  [83 62 35]\n",
      "  [83 62 35]\n",
      "  ...\n",
      "  [68 44 14]\n",
      "  [73 49 19]\n",
      "  [76 52 22]]\n",
      "\n",
      " ...\n",
      "\n",
      " [[ 0  0  0]\n",
      "  [ 0  0  0]\n",
      "  [ 0  0  0]\n",
      "  ...\n",
      "  [ 1  1  1]\n",
      "  [ 1  1  1]\n",
      "  [ 1  1  1]]\n",
      "\n",
      " [[ 0  0  0]\n",
      "  [ 0  0  0]\n",
      "  [ 0  0  0]\n",
      "  ...\n",
      "  [ 1  1  1]\n",
      "  [ 1  1  1]\n",
      "  [ 1  1  1]]\n",
      "\n",
      " [[ 0  0  0]\n",
      "  [ 0  0  0]\n",
      "  [ 0  0  0]\n",
      "  ...\n",
      "  [ 1  1  1]\n",
      "  [ 1  1  1]\n",
      "  [ 1  1  1]]]\n"
     ]
    }
   ],
   "source": [
    "print(img2)"
   ]
  },
  {
   "cell_type": "markdown",
   "id": "c53f7614",
   "metadata": {},
   "source": [
    "### TO SHOW THE IMAGE USE THIS COMMAND :"
   ]
  },
  {
   "cell_type": "code",
   "execution_count": 9,
   "id": "3f2d09cb",
   "metadata": {},
   "outputs": [],
   "source": [
    "cv2.imshow(\"Galaxy\",img1)\n",
    "cv2.waitKey(0)\n",
    "cv2.destroyAllWindows()"
   ]
  },
  {
   "cell_type": "markdown",
   "id": "10ad506e",
   "metadata": {},
   "source": [
    "##### The image is too big to be displayed on the screen to resize the image we use:"
   ]
  },
  {
   "cell_type": "code",
   "execution_count": 13,
   "id": "f1c25885",
   "metadata": {},
   "outputs": [],
   "source": [
    "resized_img = cv2.resize(img1,(800,500))\n",
    "cv2.imshow(\"Galaxy_Fit\",resized_img)\n",
    "cv2.waitKey(0)\n",
    "cv2.destroyAllWindows()"
   ]
  },
  {
   "cell_type": "code",
   "execution_count": null,
   "id": "dea67070",
   "metadata": {},
   "outputs": [],
   "source": []
  }
 ],
 "metadata": {
  "kernelspec": {
   "display_name": "Python 3",
   "language": "python",
   "name": "python3"
  },
  "language_info": {
   "codemirror_mode": {
    "name": "ipython",
    "version": 3
   },
   "file_extension": ".py",
   "mimetype": "text/x-python",
   "name": "python",
   "nbconvert_exporter": "python",
   "pygments_lexer": "ipython3",
   "version": "3.8.8"
  }
 },
 "nbformat": 4,
 "nbformat_minor": 5
}
