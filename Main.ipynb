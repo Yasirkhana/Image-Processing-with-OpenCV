{
 "cells": [
  {
   "cell_type": "markdown",
   "id": "8ed5adb1",
   "metadata": {},
   "source": [
    "# <center> IMAGE AND VIDEO PROCESSING WITH PYTHON <center>"
   ]
  },
  {
   "cell_type": "markdown",
   "id": "67bdd9ae",
   "metadata": {},
   "source": [
    "### OpenCV: Stand for OPEN SOURCE COMPUTER VISION. Its can also be used in other programming languages."
   ]
  },
  {
   "cell_type": "markdown",
   "id": "e6c03680",
   "metadata": {},
   "source": [
    "##### Importing libraries"
   ]
  },
  {
   "cell_type": "code",
   "execution_count": 2,
   "id": "867f4bc2",
   "metadata": {},
   "outputs": [],
   "source": [
    "import cv2"
   ]
  },
  {
   "cell_type": "markdown",
   "id": "5b795ff7",
   "metadata": {},
   "source": [
    "##### Reading Image file"
   ]
  },
  {
   "cell_type": "code",
   "execution_count": 3,
   "id": "b3b5f32b",
   "metadata": {},
   "outputs": [],
   "source": [
    "img = cv2.imread('galaxy.jpg')"
   ]
  },
  {
   "cell_type": "code",
   "execution_count": null,
   "id": "fc01ce1e",
   "metadata": {},
   "outputs": [],
   "source": []
  },
  {
   "cell_type": "code",
   "execution_count": null,
   "id": "95c581a1",
   "metadata": {},
   "outputs": [],
   "source": []
  }
 ],
 "metadata": {
  "kernelspec": {
   "display_name": "Python 3",
   "language": "python",
   "name": "python3"
  },
  "language_info": {
   "codemirror_mode": {
    "name": "ipython",
    "version": 3
   },
   "file_extension": ".py",
   "mimetype": "text/x-python",
   "name": "python",
   "nbconvert_exporter": "python",
   "pygments_lexer": "ipython3",
   "version": "3.8.8"
  }
 },
 "nbformat": 4,
 "nbformat_minor": 5
}
